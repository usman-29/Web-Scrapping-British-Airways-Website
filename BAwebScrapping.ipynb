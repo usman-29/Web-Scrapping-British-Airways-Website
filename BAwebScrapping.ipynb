{
  "nbformat": 4,
  "nbformat_minor": 0,
  "metadata": {
    "colab": {
      "provenance": []
    },
    "kernelspec": {
      "name": "python3",
      "display_name": "Python 3"
    },
    "language_info": {
      "name": "python"
    }
  },
  "cells": [
    {
      "cell_type": "markdown",
      "source": [
        "**Importing** **Modules**"
      ],
      "metadata": {
        "id": "fp4x9ZgKni57"
      }
    },
    {
      "cell_type": "code",
      "execution_count": 13,
      "metadata": {
        "colab": {
          "base_uri": "https://localhost:8080/"
        },
        "id": "TT6CUx2EvkZV",
        "outputId": "378e30a4-c689-4741-d7ad-4e3634019776"
      },
      "outputs": [
        {
          "output_type": "stream",
          "name": "stderr",
          "text": [
            "[nltk_data] Downloading package wordnet to /root/nltk_data...\n",
            "[nltk_data]   Package wordnet is already up-to-date!\n",
            "[nltk_data] Downloading package stopwords to /root/nltk_data...\n",
            "[nltk_data]   Package stopwords is already up-to-date!\n"
          ]
        },
        {
          "output_type": "execute_result",
          "data": {
            "text/plain": [
              "True"
            ]
          },
          "metadata": {},
          "execution_count": 13
        }
      ],
      "source": [
        "# importing modules\n",
        "import requests\n",
        "from bs4 import BeautifulSoup\n",
        "import pandas as pd\n",
        "import os\n",
        "import matplotlib.pyplot as plt\n",
        "import seaborn as sns\n",
        "from nltk.stem import WordNetLemmatizer\n",
        "from nltk.corpus import stopwords\n",
        "import re\n",
        "from dateutil import parser\n",
        "lemma = WordNetLemmatizer()\n",
        "import nltk\n",
        "nltk.download('wordnet')\n",
        "nltk.download('stopwords')"
      ]
    },
    {
      "cell_type": "markdown",
      "source": [
        "**Lists to store all the data**"
      ],
      "metadata": {
        "id": "ggDfCARlnsvz"
      }
    },
    {
      "cell_type": "code",
      "source": [
        "# reviews list\n",
        "reviews = []\n",
        "\n",
        "# starts list\n",
        "stars = []\n",
        "\n",
        "# date list\n",
        "date = []\n",
        "\n",
        "# country list\n",
        "country = []"
      ],
      "metadata": {
        "id": "b46ECGNjmxWm"
      },
      "execution_count": 14,
      "outputs": []
    },
    {
      "cell_type": "markdown",
      "source": [
        "**Data Collection**"
      ],
      "metadata": {
        "id": "IuWBf_vcnxmk"
      }
    },
    {
      "cell_type": "code",
      "source": [
        "# Data Collection\n",
        "\n",
        "for i in range(1, 30):\n",
        "    page = requests.get(f'https://www.airlinequality.com/airline-reviews/british-airways/page/{i}/').text\n",
        "    soup = BeautifulSoup(page, 'lxml')\n",
        "\n",
        "    # collecting all the reviews\n",
        "    for item in soup.find_all('div', class_='text_content'):\n",
        "        reviews.append(item.text)\n",
        "\n",
        "    # collecting all the ratings\n",
        "    for item in soup.find_all('div', class_='rating-10', attrs={'itemprop': 'reviewRating'}):\n",
        "        stars.append(item.span.text)\n",
        "\n",
        "    # collecting all the dates\n",
        "    for item in soup.find_all('time'):\n",
        "        date.append(item.text)\n",
        "\n",
        "    # collecting all the countries\n",
        "    for item in soup.find_all('h3'):\n",
        "        country.append(item.span.next_sibling.text.strip().replace('(', '').replace(')', ''))\n",
        "\n",
        "# creating the data frame\n",
        "df = pd.DataFrame({'reviews': reviews, 'stars': stars, 'date': date, 'country': country})\n"
      ],
      "metadata": {
        "id": "48rDcfO6m_Tx"
      },
      "execution_count": 15,
      "outputs": []
    },
    {
      "cell_type": "markdown",
      "source": [
        "**Data Manipulation**"
      ],
      "metadata": {
        "id": "FKAh6a2Tn1MR"
      }
    },
    {
      "cell_type": "code",
      "source": [
        "# Data Manipulation\n",
        "\n",
        "# exporting data into csv format\n",
        "cwd = os.getcwd()\n",
        "df.to_csv(cwd+'/BA_reviews.csv')\n",
        "\n",
        "\n",
        "# creating a new column for Trip verification\n",
        "df['verified'] = df.reviews.str.contains('Trip Verified')\n",
        "\n",
        "# cleaning reviews\n",
        "reviews_data = df.reviews.str.replace('✅ Trip Verified |', '').replace('Not Verified |', '')\n",
        "\n",
        "# corpus list to collect cleaned data\n",
        "corpus =[]\n",
        "\n",
        "# loop through each review, remove punctuations, small case it, join it and add it to corpus\n",
        "for rev in reviews_data:\n",
        "    rev = re.sub('[^a-zA-Z]',' ', rev)\n",
        "    rev = rev.lower()\n",
        "    rev = rev.split()\n",
        "    rev = [lemma.lemmatize(word) for word in rev if word not in set(stopwords.words(\"english\"))]\n",
        "    rev = \" \".join(rev)\n",
        "    corpus.append(rev)\n",
        "\n",
        "# creating a new column corpus and adding corpus list to it\n",
        "df['corpus'] = corpus\n",
        "\n",
        "# converting the date to datetime format\n",
        "df['date'] = df['date'].apply(lambda x: parser.parse(x).strftime('%Y-%m-%d'))\n",
        "df['date'] = pd.to_datetime(df['date'])\n",
        "\n",
        "# exporting the data to csv after cleaning\n",
        "df.to_csv(cwd + \"/cleaned-BA-reviews.csv\")"
      ],
      "metadata": {
        "colab": {
          "base_uri": "https://localhost:8080/"
        },
        "id": "gufUjdSknHzH",
        "outputId": "3b6bd12a-7ee2-4e1e-c5c0-a1db2cad001d"
      },
      "execution_count": 16,
      "outputs": [
        {
          "output_type": "stream",
          "name": "stderr",
          "text": [
            "<ipython-input-16-80a27197f298>:12: FutureWarning: The default value of regex will change from True to False in a future version.\n",
            "  reviews_data = df.reviews.str.replace('✅ Trip Verified |', '').replace('Not Verified |', '')\n"
          ]
        }
      ]
    },
    {
      "cell_type": "markdown",
      "source": [
        "**Data Visualisation**"
      ],
      "metadata": {
        "id": "UkgOUk40n54A"
      }
    },
    {
      "cell_type": "code",
      "source": [
        "# Data Visualisation\n",
        "\n",
        "# total counts for each rating\n",
        "df_ratings = df['stars'].value_counts().sort_index().to_frame().reset_index()\n",
        "df_ratings.columns = ['Stars', 'total_counts']\n",
        "pct_values = (df_ratings['total_counts'] / df_ratings['total_counts'].sum() * 100).tolist()\n",
        "\n",
        "# Create a color palette for the bars\n",
        "clrs = ['grey' if (x < max(pct_values)) else 'red' for x in pct_values]\n",
        "\n",
        "# Create the vertical bar plot\n",
        "ax = sns.barplot(x='Stars', y='total_counts', data=df_ratings, errwidth=0, palette=clrs)\n",
        "\n",
        "# Add labels to the bars\n",
        "for i, v in enumerate(df_ratings['total_counts']):\n",
        "    ax.text(i, v + 1, str(v), ha='center', fontsize=8)\n",
        "\n",
        "# Set the plot title and labels\n",
        "ax.set_title('Distribution of Star Ratings')\n",
        "ax.set_xlabel('Stars')\n",
        "ax.set_ylabel('Total Counts')\n",
        "\n",
        "# Show the plot\n",
        "plt.show()"
      ],
      "metadata": {
        "colab": {
          "base_uri": "https://localhost:8080/",
          "height": 472
        },
        "id": "HUE4pkcGnP_H",
        "outputId": "e197a5ef-c11d-440b-bc22-0690747b5638"
      },
      "execution_count": 17,
      "outputs": [
        {
          "output_type": "display_data",
          "data": {
            "text/plain": [
              "<Figure size 640x480 with 1 Axes>"
            ],
            "image/png": "[encoded data removed]"
          },
          "metadata": {}
        }
      ]
    }
  ]
}